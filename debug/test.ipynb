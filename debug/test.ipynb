{
 "cells": [
  {
   "cell_type": "code",
   "execution_count": 1,
   "id": "8b5eee28-0ddc-42a9-95a6-3081ef85a274",
   "metadata": {},
   "outputs": [
    {
     "data": {
      "image/jpeg": "[encoded data removed]",
      "image/png": "[encoded data removed]",
      "text/plain": [
       "<PIL.PngImagePlugin.PngImageFile image mode=RGB size=331x123>"
      ]
     },
     "execution_count": 1,
     "metadata": {},
     "output_type": "execute_result"
    }
   ],
   "source": [
    "from PIL import Image\n",
    "from pix2tex.cli import LatexOCR\n",
    "\n",
    "img = Image.open('eq5.png')\n",
    "img"
   ]
  },
  {
   "cell_type": "code",
   "execution_count": 2,
   "id": "f0ece8b7-bbb5-421a-a61c-30595249922b",
   "metadata": {},
   "outputs": [
    {
     "name": "stdout",
     "output_type": "stream",
     "text": [
      "\\sin_{\\theta_{W}}^{2}\\ =\\ 1\\ -\\ \\frac{M_{W}^{2}}{M_{Z}^{2}}\n"
     ]
    }
   ],
   "source": [
    "model = LatexOCR()\n",
    "tex = model(img)\n",
    "print(tex)"
   ]
  },
  {
   "cell_type": "code",
   "execution_count": 3,
   "id": "7d96c06d-3f21-4e36-a8ca-dbc5ee29f47a",
   "metadata": {},
   "outputs": [
    {
     "data": {
      "text/latex": [
       "$\\displaystyle \\sin_{\\theta_{W}}^{2}\\ =\\ 1\\ -\\ \\frac{M_{W}^{2}}{M_{Z}^{2}}$"
      ],
      "text/plain": [
       "<IPython.core.display.Math object>"
      ]
     },
     "execution_count": 3,
     "metadata": {},
     "output_type": "execute_result"
    }
   ],
   "source": [
    "from IPython.display import display, Math, Latex\n",
    "Math(tex)"
   ]
  },
  {
   "cell_type": "code",
   "execution_count": 5,
   "id": "95943b10-33e7-48fc-b577-c39a949fe09b",
   "metadata": {},
   "outputs": [
    {
     "data": {
      "text/latex": [
       "$\\displaystyle - \\frac{M_{W}^{2}}{M_{Z}^{2}} + \\sin^{2}{\\left(1 \\right)}$"
      ],
      "text/plain": [
       "-M_W**2/(M_Z**2) + sin(1)**2"
      ]
     },
     "execution_count": 5,
     "metadata": {},
     "output_type": "execute_result"
    }
   ],
   "source": [
    "from latex2sympy2 import latex2sympy, latex2latex\n",
    "cleantex = tex.replace(r\"\\bigl(\",\"(\").replace(r\"\\bigr)\",\")\").replace(r\"\\left(\",\"(\").replace(r\"\\right)\",\")\").replace(r'\\ ','').replace('=','')\n",
    "latex2sympy(cleantex)"
   ]
  },
  {
   "cell_type": "code",
   "execution_count": 6,
   "id": "be0213cb-2ad7-4654-92db-ac04c8825856",
   "metadata": {},
   "outputs": [],
   "source": [
    "a=_"
   ]
  },
  {
   "cell_type": "code",
   "execution_count": 13,
   "id": "9581d6c2-21e9-4dca-8922-98c7e7553355",
   "metadata": {},
   "outputs": [
    {
     "data": {
      "text/latex": [
       "$\\displaystyle - \\frac{M_{W}^{2}}{M_{Z}^{2}} + 0.7080734182735712$"
      ],
      "text/plain": [
       "-M_W**2/M_Z**2 + 0.7080734182735712"
      ]
     },
     "execution_count": 13,
     "metadata": {},
     "output_type": "execute_result"
    }
   ],
   "source": [
    "sympy.parsing.sympy_parser.parse_expr(\"-M_W**2/M_Z**2 + 0.84147098480789651d0**2\".replace(\"d0**\",\"e0**\"))"
   ]
  },
  {
   "cell_type": "code",
   "execution_count": 12,
   "id": "a7b178df-9913-4b69-99f5-b13a47aa00d1",
   "metadata": {},
   "outputs": [
    {
     "data": {
      "text/plain": [
       "'      -M_W**2/M_Z**2 + 0.84147098480789651d0**2'"
      ]
     },
     "execution_count": 12,
     "metadata": {},
     "output_type": "execute_result"
    }
   ],
   "source": [
    "import sympy\n",
    "sympy.fcode(a)"
   ]
  },
  {
   "cell_type": "code",
   "execution_count": null,
   "id": "2480e22d-6cfe-4286-9446-81f934f504a6",
   "metadata": {},
   "outputs": [],
   "source": []
  },
  {
   "cell_type": "code",
   "execution_count": 18,
   "id": "ef42abff-0929-458f-b493-b6e0d004408e",
   "metadata": {},
   "outputs": [
    {
     "data": {
      "text/latex": [
       "$\\displaystyle \\frac{S_{b1} \\alpha_{s} \\left(L_{1} + 0.21714724095162592 \\log{\\left(\\frac{n^{2} v_{b}^{2}}{\\left|{n}\\right|^{2}} \\right)} - 0.21714724095162592 \\log{\\left(\\frac{0.5 s v_{1}^{2} v_{b}^{2}}{m_{1}^{2}} \\right)} - 1\\right)}{\\pi \\epsilon}$"
      ],
      "text/plain": [
       "S_b1*alpha_s*(L_1 + 0.21714724095162592*log(n**2*v_b**2/Abs(n)**2) - 0.21714724095162592*log(0.5*s*v_1**2*v_b**2/m_1**2) - 1)/(pi*epsilon)"
      ]
     },
     "execution_count": 18,
     "metadata": {},
     "output_type": "execute_result"
    }
   ],
   "source": [
    "fc =      \"\"\"\n",
    "      S_b1*alpha_s*(L_1 - 1*0.43429448190325183d0*log(0.5d0*s*v_1**2*\n",
    "      v_b**2/m_1**2)/2 + 1*0.43429448190325183d0*log(n**2*v_b**2/abs(n)\n",
    "      **2)/2 - 1)/((pi*epsilon))\"\"\"\n",
    "sympy.parsing.sympy_parser.parse_expr(fc.replace(\"d0\",\"e0\"))"
   ]
  },
  {
   "cell_type": "code",
   "execution_count": 21,
   "id": "34edf2fb-70e0-427b-8eb7-3ebff99cad58",
   "metadata": {},
   "outputs": [
    {
     "data": {
      "text/plain": [
       "'      (1.0d0/2.0d0)*log(a)'"
      ]
     },
     "execution_count": 21,
     "metadata": {},
     "output_type": "execute_result"
    }
   ],
   "source": [
    "import sympy\n",
    "sympy.fcode(sympy.parsing.sympy_parser.parse_expr(\"1*1/2*log(a)\"))"
   ]
  },
  {
   "cell_type": "code",
   "execution_count": 23,
   "id": "5a5fe4e6-bcd5-4e1d-9729-6ef70ba14546",
   "metadata": {},
   "outputs": [],
   "source": [
    "from sympy import *\n",
    "S_b1 = Symbol('S_{b1}')\n",
    "alpha_s = Symbol('alpha_s')\n",
    "L_1 = Symbol('L_1')\n",
    "s = Symbol('s')\n",
    "v_1 = Symbol('v_1')\n",
    "v_b = Symbol('v_b')\n",
    "m_1 = Symbol('m_1')\n",
    "n = Symbol('n')\n",
    "epsilon = Symbol('epsilon')\n",
    "e = S_b1*alpha_s*(1/(pi*epsilon))*(L_1 - 1*1*log((s*(v_1*v_b)**2)/((2*m_1**2)), 10)/2 + 1*log((n*v_b)**2/(Abs(n)**2), 10)/2 - 1)"
   ]
  },
  {
   "cell_type": "code",
   "execution_count": 24,
   "id": "6464fe34-d4c0-4be3-ac2b-dab7a50fabb3",
   "metadata": {},
   "outputs": [
    {
     "data": {
      "text/latex": [
       "$\\displaystyle \\frac{S_{b1} \\alpha_{s} \\left(L_{1} + \\frac{\\log{\\left(\\frac{n^{2} v_{b}^{2}}{\\left|{n}\\right|^{2}} \\right)}}{2 \\log{\\left(10 \\right)}} - \\frac{\\log{\\left(\\frac{s v_{1}^{2} v_{b}^{2}}{2 m_{1}^{2}} \\right)}}{2 \\log{\\left(10 \\right)}} - 1\\right)}{\\pi \\epsilon}$"
      ],
      "text/plain": [
       "S_{b1}*alpha_s*(L_1 + log(n**2*v_b**2/Abs(n)**2)/(2*log(10)) - log(s*v_1**2*v_b**2/(2*m_1**2))/(2*log(10)) - 1)/(pi*epsilon)"
      ]
     },
     "execution_count": 24,
     "metadata": {},
     "output_type": "execute_result"
    }
   ],
   "source": [
    "e"
   ]
  },
  {
   "cell_type": "code",
   "execution_count": 26,
   "id": "c9ad29f9-1870-45f9-84b1-4a1c2564e54c",
   "metadata": {},
   "outputs": [
    {
     "name": "stdout",
     "output_type": "stream",
     "text": [
      "      parameter (pi = 3.1415926535897932d0)\n",
      "      S_{b1}*alpha_s*(L_1 + (1.0d0/2.0d0)*log(n**2*v_b**2/abs(n)**2)/\n",
      "     @ 2.3025850929940457d0 - 1.0d0/2.0d0*log(0.5d0*s*v_1**2*v_b**2/m_1\n",
      "     @ **2)/2.3025850929940457d0 - 1)/(pi*epsilon)\n"
     ]
    }
   ],
   "source": [
    "print(sympy.fcode(e))"
   ]
  },
  {
   "cell_type": "code",
   "execution_count": null,
   "id": "043ce1e0-acfc-42c3-bd7c-488aa920b3ba",
   "metadata": {},
   "outputs": [],
   "source": []
  }
 ],
 "metadata": {
  "kernelspec": {
   "display_name": "Python 3 (ipykernel)",
   "language": "python",
   "name": "python3"
  },
  "language_info": {
   "codemirror_mode": {
    "name": "ipython",
    "version": 3
   },
   "file_extension": ".py",
   "mimetype": "text/x-python",
   "name": "python",
   "nbconvert_exporter": "python",
   "pygments_lexer": "ipython3",
   "version": "3.11.7"
  }
 },
 "nbformat": 4,
 "nbformat_minor": 5
}
